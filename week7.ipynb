{
  "nbformat": 4,
  "nbformat_minor": 0,
  "metadata": {
    "colab": {
      "provenance": [],
      "authorship_tag": "ABX9TyNs6MI9SKx0s8rPTLvWlSP1",
      "include_colab_link": true
    },
    "kernelspec": {
      "name": "python3",
      "display_name": "Python 3"
    },
    "language_info": {
      "name": "python"
    }
  },
  "cells": [
    {
      "cell_type": "markdown",
      "metadata": {
        "id": "view-in-github",
        "colab_type": "text"
      },
      "source": [
        "<a href=\"https://colab.research.google.com/github/16Komang/PCVK/blob/main/week7.ipynb\" target=\"_parent\"><img src=\"https://colab.research.google.com/assets/colab-badge.svg\" alt=\"Open In Colab\"/></a>"
      ]
    },
    {
      "cell_type": "code",
      "execution_count": 1,
      "metadata": {
        "id": "2KN280nzVxyf",
        "outputId": "3d14eab5-dd30-4a8e-bef4-4a9723fa48b1",
        "colab": {
          "base_uri": "https://localhost:8080/"
        }
      },
      "outputs": [
        {
          "output_type": "stream",
          "name": "stdout",
          "text": [
            "Mounted at /content/drive\n"
          ]
        }
      ],
      "source": [
        "from google.colab import drive\n",
        "drive.mount('/content/drive')"
      ]
    },
    {
      "cell_type": "code",
      "source": [
        "import numpy as np\n",
        "import matplotlib.pyplot as plt\n",
        "import cv2 as cv\n",
        "from google.colab.patches import cv2_imshow\n",
        "from PIL import Image as im"
      ],
      "metadata": {
        "id": "4ogOeeF7XWp0"
      },
      "execution_count": 2,
      "outputs": []
    },
    {
      "cell_type": "markdown",
      "source": [
        "# Buatlah fungsi konvolusi. Catatan: parameter yang digunakan boleh dimodifikasi. Misal, hanya menggunakan parameter image dan kernel saja, atau image, kernel, dan padding."
      ],
      "metadata": {
        "id": "qAdw_P3ZZKgE"
      }
    },
    {
      "cell_type": "code",
      "source": [
        "def convolution2d(image, kernel, stride, padding):\n",
        "  image = np.pad(image, padding, mode='constant', constatnt_value=0)\n",
        "\n",
        "  kernel_height, kernel_width = kernel.shape\n",
        "  padded_height, kernel_width = image.shape\n",
        "\n",
        "  output_height = (padded_height - kernel_height)// stride + 1\n",
        "  output_width = (padded_width - kernel_width)// stride + 1\n",
        "\n",
        "  new_image = np.zeros((output_height, output_width)).astpe(np.float32)\n",
        "\n",
        "  #process\n",
        "  for y in range(0, output_height):\n",
        "    for x in range(0, output_width):\n",
        "      new_image[y][x] = np.sum(image[y * stride:y * stride + kernel_height, x * stride:x * stride + kernel_width]).astype(np.float32)\n",
        "      return new_image\n"
      ],
      "metadata": {
        "id": "waRfzudUYGwE"
      },
      "execution_count": 3,
      "outputs": []
    },
    {
      "cell_type": "code",
      "source": [],
      "metadata": {
        "id": "ERtEEQrgflWI"
      },
      "execution_count": 3,
      "outputs": []
    }
  ]
}