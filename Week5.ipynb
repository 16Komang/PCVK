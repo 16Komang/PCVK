{
  "nbformat": 4,
  "nbformat_minor": 0,
  "metadata": {
    "colab": {
      "provenance": [],
      "include_colab_link": true
    },
    "kernelspec": {
      "name": "python3",
      "display_name": "Python 3"
    },
    "language_info": {
      "name": "python"
    }
  },
  "cells": [
    {
      "cell_type": "markdown",
      "metadata": {
        "id": "view-in-github",
        "colab_type": "text"
      },
      "source": [
        "<a href=\"https://colab.research.google.com/github/16Komang/PCVK/blob/main/Week5.ipynb\" target=\"_parent\"><img src=\"https://colab.research.google.com/assets/colab-badge.svg\" alt=\"Open In Colab\"/></a>"
      ]
    },
    {
      "cell_type": "code",
      "execution_count": 1,
      "metadata": {
        "id": "Dz2_a6CRLU-H",
        "outputId": "7e42e8c4-0909-4bf7-cba8-08505259df6d",
        "colab": {
          "base_uri": "https://localhost:8080/",
          "height": 328
        }
      },
      "outputs": [
        {
          "output_type": "error",
          "ename": "MessageError",
          "evalue": "ignored",
          "traceback": [
            "\u001b[0;31m---------------------------------------------------------------------------\u001b[0m",
            "\u001b[0;31mMessageError\u001b[0m                              Traceback (most recent call last)",
            "\u001b[0;32m<ipython-input-1-d5df0069828e>\u001b[0m in \u001b[0;36m<module>\u001b[0;34m\u001b[0m\n\u001b[1;32m      1\u001b[0m \u001b[0;32mfrom\u001b[0m \u001b[0mgoogle\u001b[0m\u001b[0;34m.\u001b[0m\u001b[0mcolab\u001b[0m \u001b[0;32mimport\u001b[0m \u001b[0mdrive\u001b[0m\u001b[0;34m\u001b[0m\u001b[0;34m\u001b[0m\u001b[0m\n\u001b[0;32m----> 2\u001b[0;31m \u001b[0mdrive\u001b[0m\u001b[0;34m.\u001b[0m\u001b[0mmount\u001b[0m\u001b[0;34m(\u001b[0m\u001b[0;34m'/content/drive'\u001b[0m\u001b[0;34m)\u001b[0m\u001b[0;34m\u001b[0m\u001b[0;34m\u001b[0m\u001b[0m\n\u001b[0m",
            "\u001b[0;32m/usr/local/lib/python3.9/dist-packages/google/colab/drive.py\u001b[0m in \u001b[0;36mmount\u001b[0;34m(mountpoint, force_remount, timeout_ms, readonly)\u001b[0m\n\u001b[1;32m    101\u001b[0m \u001b[0;32mdef\u001b[0m \u001b[0mmount\u001b[0m\u001b[0;34m(\u001b[0m\u001b[0mmountpoint\u001b[0m\u001b[0;34m,\u001b[0m \u001b[0mforce_remount\u001b[0m\u001b[0;34m=\u001b[0m\u001b[0;32mFalse\u001b[0m\u001b[0;34m,\u001b[0m \u001b[0mtimeout_ms\u001b[0m\u001b[0;34m=\u001b[0m\u001b[0;36m120000\u001b[0m\u001b[0;34m,\u001b[0m \u001b[0mreadonly\u001b[0m\u001b[0;34m=\u001b[0m\u001b[0;32mFalse\u001b[0m\u001b[0;34m)\u001b[0m\u001b[0;34m:\u001b[0m\u001b[0;34m\u001b[0m\u001b[0;34m\u001b[0m\u001b[0m\n\u001b[1;32m    102\u001b[0m   \u001b[0;34m\"\"\"Mount your Google Drive at the specified mountpoint path.\"\"\"\u001b[0m\u001b[0;34m\u001b[0m\u001b[0;34m\u001b[0m\u001b[0m\n\u001b[0;32m--> 103\u001b[0;31m   return _mount(\n\u001b[0m\u001b[1;32m    104\u001b[0m       \u001b[0mmountpoint\u001b[0m\u001b[0;34m,\u001b[0m\u001b[0;34m\u001b[0m\u001b[0;34m\u001b[0m\u001b[0m\n\u001b[1;32m    105\u001b[0m       \u001b[0mforce_remount\u001b[0m\u001b[0;34m=\u001b[0m\u001b[0mforce_remount\u001b[0m\u001b[0;34m,\u001b[0m\u001b[0;34m\u001b[0m\u001b[0;34m\u001b[0m\u001b[0m\n",
            "\u001b[0;32m/usr/local/lib/python3.9/dist-packages/google/colab/drive.py\u001b[0m in \u001b[0;36m_mount\u001b[0;34m(mountpoint, force_remount, timeout_ms, ephemeral, readonly)\u001b[0m\n\u001b[1;32m    130\u001b[0m   )\n\u001b[1;32m    131\u001b[0m   \u001b[0;32mif\u001b[0m \u001b[0mephemeral\u001b[0m\u001b[0;34m:\u001b[0m\u001b[0;34m\u001b[0m\u001b[0;34m\u001b[0m\u001b[0m\n\u001b[0;32m--> 132\u001b[0;31m     _message.blocking_request(\n\u001b[0m\u001b[1;32m    133\u001b[0m         \u001b[0;34m'request_auth'\u001b[0m\u001b[0;34m,\u001b[0m \u001b[0mrequest\u001b[0m\u001b[0;34m=\u001b[0m\u001b[0;34m{\u001b[0m\u001b[0;34m'authType'\u001b[0m\u001b[0;34m:\u001b[0m \u001b[0;34m'dfs_ephemeral'\u001b[0m\u001b[0;34m}\u001b[0m\u001b[0;34m,\u001b[0m \u001b[0mtimeout_sec\u001b[0m\u001b[0;34m=\u001b[0m\u001b[0;32mNone\u001b[0m\u001b[0;34m\u001b[0m\u001b[0;34m\u001b[0m\u001b[0m\n\u001b[1;32m    134\u001b[0m     )\n",
            "\u001b[0;32m/usr/local/lib/python3.9/dist-packages/google/colab/_message.py\u001b[0m in \u001b[0;36mblocking_request\u001b[0;34m(request_type, request, timeout_sec, parent)\u001b[0m\n\u001b[1;32m    175\u001b[0m       \u001b[0mrequest_type\u001b[0m\u001b[0;34m,\u001b[0m \u001b[0mrequest\u001b[0m\u001b[0;34m,\u001b[0m \u001b[0mparent\u001b[0m\u001b[0;34m=\u001b[0m\u001b[0mparent\u001b[0m\u001b[0;34m,\u001b[0m \u001b[0mexpect_reply\u001b[0m\u001b[0;34m=\u001b[0m\u001b[0;32mTrue\u001b[0m\u001b[0;34m\u001b[0m\u001b[0;34m\u001b[0m\u001b[0m\n\u001b[1;32m    176\u001b[0m   )\n\u001b[0;32m--> 177\u001b[0;31m   \u001b[0;32mreturn\u001b[0m \u001b[0mread_reply_from_input\u001b[0m\u001b[0;34m(\u001b[0m\u001b[0mrequest_id\u001b[0m\u001b[0;34m,\u001b[0m \u001b[0mtimeout_sec\u001b[0m\u001b[0;34m)\u001b[0m\u001b[0;34m\u001b[0m\u001b[0;34m\u001b[0m\u001b[0m\n\u001b[0m",
            "\u001b[0;32m/usr/local/lib/python3.9/dist-packages/google/colab/_message.py\u001b[0m in \u001b[0;36mread_reply_from_input\u001b[0;34m(message_id, timeout_sec)\u001b[0m\n\u001b[1;32m    102\u001b[0m     ):\n\u001b[1;32m    103\u001b[0m       \u001b[0;32mif\u001b[0m \u001b[0;34m'error'\u001b[0m \u001b[0;32min\u001b[0m \u001b[0mreply\u001b[0m\u001b[0;34m:\u001b[0m\u001b[0;34m\u001b[0m\u001b[0;34m\u001b[0m\u001b[0m\n\u001b[0;32m--> 104\u001b[0;31m         \u001b[0;32mraise\u001b[0m \u001b[0mMessageError\u001b[0m\u001b[0;34m(\u001b[0m\u001b[0mreply\u001b[0m\u001b[0;34m[\u001b[0m\u001b[0;34m'error'\u001b[0m\u001b[0;34m]\u001b[0m\u001b[0;34m)\u001b[0m\u001b[0;34m\u001b[0m\u001b[0;34m\u001b[0m\u001b[0m\n\u001b[0m\u001b[1;32m    105\u001b[0m       \u001b[0;32mreturn\u001b[0m \u001b[0mreply\u001b[0m\u001b[0;34m.\u001b[0m\u001b[0mget\u001b[0m\u001b[0;34m(\u001b[0m\u001b[0;34m'data'\u001b[0m\u001b[0;34m,\u001b[0m \u001b[0;32mNone\u001b[0m\u001b[0;34m)\u001b[0m\u001b[0;34m\u001b[0m\u001b[0;34m\u001b[0m\u001b[0m\n\u001b[1;32m    106\u001b[0m \u001b[0;34m\u001b[0m\u001b[0m\n",
            "\u001b[0;31mMessageError\u001b[0m: Error: credential propagation was unsuccessful"
          ]
        }
      ],
      "source": [
        "from google.colab import drive\n",
        "drive.mount('/content/drive')"
      ]
    },
    {
      "cell_type": "code",
      "source": [
        "import cv2 as cv\n",
        "from google.colab.patches import cv2_imshow\n",
        "from skimage import io \n",
        "import matplotlib.pyplot as plt\n",
        "import numpy as np\n",
        "img = cv.imread('/content/drive/MyDrive/Images/female.tiff')\n",
        "img_rgb = cv.cvtColor(img,cv.COLOR_BGR2RGB)\n",
        "plt.imshow(img_rgb)"
      ],
      "metadata": {
        "id": "mvoNq0SeUvhL"
      },
      "execution_count": null,
      "outputs": []
    },
    {
      "cell_type": "markdown",
      "source": [
        "# 1. Buat Gamma Correction sesuai dengan petunjuk berikut"
      ],
      "metadata": {
        "id": "eAO8stkQzTIa"
      }
    },
    {
      "cell_type": "code",
      "source": [
        "print(' Gamma Correction pada citra ')\n",
        "print('----------------------------------')\n",
        "try:\n",
        "  gamma = int(input('Masukkan nilai Gamma: '))\n",
        "except ValueError:\n",
        "  print('Error, not a number')\n",
        "\n",
        "#Menampilkan perbandingan sebelum dan sesudah Gama Correction Menggunakan BGR2RBG\n",
        "original = cv.cvtColor(img_rgb,cv.COLOR_BGR2RGB)\n",
        "gamma_image = np.zeros(original.shape, original.dtype)\n",
        "\n",
        "for y in range(original.shape[0]):\n",
        "  for x in range(original.shape[1]):\n",
        "    for c in range(original.shape[2]):\n",
        "     gamma_image[y,x,c] = np.clip(255 * pow(original[y,x,c] / 255, (1/gamma)), 0, 255)\n",
        "     \n",
        "final_frame = cv.hconcat((original, gamma_image))\n",
        "cv2_imshow(final_frame)"
      ],
      "metadata": {
        "id": "UvV29QcIU1FY"
      },
      "execution_count": null,
      "outputs": []
    },
    {
      "cell_type": "markdown",
      "source": [
        "## 2. Buat Simulasi Image Depth"
      ],
      "metadata": {
        "id": "ETK1WOKXz6IE"
      }
    },
    {
      "cell_type": "code",
      "source": [
        "print(' bitdepth Correction pada citra ')\n",
        "print('----------------------------------')\n",
        "try:\n",
        "  bd = float(input('Masukkan nilai Depth: '))\n",
        "except ValueError:\n",
        "  print('Error, not a number')\n",
        "\n",
        "#Menampilkan perbandingan sebelum dan sesudah Gama Correction Menggunakan Grayscale\n",
        "original = cv.imread('/content/drive/MyDrive/Images/female.tiff', cv.IMREAD_GRAYSCALE)\n",
        "depth_image = np.zeros(original.shape, original.dtype)\n",
        "\n",
        "bit_depth=2\n",
        "level = 255 / (pow(2,bit_depth)-1)\n",
        "\n",
        "for y in range(original.shape[0]):\n",
        "  for x in range(original.shape[1]):\n",
        "      depth_image[y,x] = np.clip(round(original[y,x] / level) * level, 0, 255);\n",
        "     \n",
        "final_frame = cv.hconcat((original, depth_image))\n",
        "cv2_imshow(final_frame)"
      ],
      "metadata": {
        "id": "gwUHLn66ebCR"
      },
      "execution_count": null,
      "outputs": []
    },
    {
      "cell_type": "markdown",
      "source": [],
      "metadata": {
        "id": "JkiP_485ztwK"
      }
    },
    {
      "cell_type": "markdown",
      "source": [
        "## 3. Buat modul Average Denoising"
      ],
      "metadata": {
        "id": "d571ADpaz-yf"
      }
    },
    {
      "cell_type": "markdown",
      "source": [
        "# Noise Number 5"
      ],
      "metadata": {
        "id": "AbjXpxp00MKG"
      }
    },
    {
      "cell_type": "code",
      "source": [
        "import glob\n",
        "from math import log10\n",
        "from math import sqrt\n",
        "\n",
        "original = cv.imread('/content/drive/MyDrive/Images/galaxy.jpg')\n",
        "cv_img = []\n",
        "for img in glob.glob('/content/drive/MyDrive/Images/noises/*.jpg'):\n",
        "  n= cv.imread(img)\n",
        "  cv_img.append(n)\n",
        "\n",
        "dst = cv_img[0]\n",
        "noise_number = 4\n",
        "for i in range(noise_number):\n",
        "    if i == 0:\n",
        "        pass\n",
        "    else:\n",
        "        alpha = 1.0 / (i + 1)\n",
        "        beta = 1.0 - alpha\n",
        "        dst = cv.addWeighted(cv_img[i], alpha, dst, beta, 0.0)\n",
        "\n",
        "def PSNR(original, compressed):\n",
        "  mse = np.mean((original - compressed) ** 2)\n",
        "  if(mse == 0): \n",
        "    # MSE 0 maka tidak ada noise sama sekali, sehingga PSNR tidak memiliki arti\n",
        "      return 100\n",
        "  max_pixel = 255.0\n",
        "  psnr = 20 * log10(max_pixel / sqrt(mse))\n",
        "  return psnr\n",
        "\n",
        "compressed = dst\n",
        "psnr = PSNR(original, compressed)\n",
        "\n",
        "print('Nilai PSNR adalah',psnr,'(dB)')\n",
        "galaxy_frame = cv.hconcat((original, dst))\n",
        "cv2_imshow(galaxy_frame)\n",
        "     "
      ],
      "metadata": {
        "id": "ZT5lB5oVjLg-"
      },
      "execution_count": null,
      "outputs": []
    },
    {
      "cell_type": "markdown",
      "source": [
        "# Noise Number 30"
      ],
      "metadata": {
        "id": "9J5_hv8G0HMP"
      }
    },
    {
      "cell_type": "code",
      "source": [
        "dst = cv_img[0]\n",
        "noise_number = 29\n",
        "for i in range(noise_number):\n",
        "    if i == 0:\n",
        "        pass\n",
        "    else:\n",
        "        alpha = 1.0 / (i + 1)\n",
        "        beta = 1.0 - alpha\n",
        "        dst = cv.addWeighted(cv_img[i], alpha, dst, beta, 0.0)\n",
        "        \n",
        "        compressed = dst\n",
        "        psnr = PSNR(original, compressed)\n",
        "\n",
        "print('Nilai PSNR adalah',psnr,'(dB)')\n",
        "galaxy_frame = cv.hconcat((original, dst))\n",
        "cv2_imshow(galaxy_frame)"
      ],
      "metadata": {
        "id": "DpiEVN2BvRaM"
      },
      "execution_count": null,
      "outputs": []
    },
    {
      "cell_type": "markdown",
      "source": [
        "# Noise Number 60"
      ],
      "metadata": {
        "id": "1ZhaS5li0YgH"
      }
    },
    {
      "cell_type": "code",
      "source": [
        "dst = cv_img[0]\n",
        "noise_number = 59\n",
        "for i in range(noise_number):\n",
        "    if i == 0:\n",
        "        pass\n",
        "    else:\n",
        "        alpha = 1.0 / (i + 1)\n",
        "        beta = 1.0 - alpha\n",
        "        dst = cv.addWeighted(cv_img[i], alpha, dst, beta, 0.0)\n",
        "        \n",
        "        compressed = dst\n",
        "        psnr = PSNR(original, compressed)\n",
        "\n",
        "print('Nilai PSNR adalah',psnr,'(dB)')\n",
        "galaxy_frame = cv.hconcat((original, dst))\n",
        "cv2_imshow(galaxy_frame)"
      ],
      "metadata": {
        "id": "j9iyAOz0yy30"
      },
      "execution_count": null,
      "outputs": []
    },
    {
      "cell_type": "markdown",
      "source": [
        "# Noise Number 80"
      ],
      "metadata": {
        "id": "3WptP4XS19vn"
      }
    },
    {
      "cell_type": "code",
      "source": [
        "dst = cv_img[0]\n",
        "noise_number = 79\n",
        "for i in range(noise_number):\n",
        "    if i == 0:\n",
        "        pass\n",
        "    else:\n",
        "        alpha = 1.0 / (i + 1)\n",
        "        beta = 1.0 - alpha\n",
        "        dst = cv.addWeighted(cv_img[i], alpha, dst, beta, 0.0)\n",
        "        \n",
        "        compressed = dst\n",
        "        psnr = PSNR(original, compressed)\n",
        "\n",
        "print('Nilai PSNR adalah',psnr,'(dB)')\n",
        "galaxy_frame = cv.hconcat((original, dst))\n",
        "cv2_imshow(galaxy_frame)"
      ],
      "metadata": {
        "id": "2y_T2OT0zKOP"
      },
      "execution_count": null,
      "outputs": []
    },
    {
      "cell_type": "markdown",
      "source": [
        "# Noise Number 100"
      ],
      "metadata": {
        "id": "-tA8MhBf2BY1"
      }
    },
    {
      "cell_type": "code",
      "source": [
        "dst = cv_img[0]\n",
        "noise_number = 99\n",
        "for i in range(noise_number):\n",
        "    if i == 0:\n",
        "        pass\n",
        "    else:\n",
        "        alpha = 1.0 / (i + 1)\n",
        "        beta = 1.0 - alpha\n",
        "        dst = cv.addWeighted(cv_img[i], alpha, dst, beta, 0.0)\n",
        "        \n",
        "        compressed = dst\n",
        "        psnr = PSNR(original, compressed)\n",
        "\n",
        "print('Nilai PSNR adalah',psnr,'(dB)')\n",
        "galaxy_frame = cv.hconcat((original, dst))\n",
        "cv2_imshow(galaxy_frame)"
      ],
      "metadata": {
        "id": "dRqe6wqO1YgX"
      },
      "execution_count": null,
      "outputs": []
    },
    {
      "cell_type": "markdown",
      "source": [
        "# Kesimpulan\n",
        "Kesimpulan yang bisa saya amblil adalah semakinn besar nilai dari noise_numbernya maka bintik-bintik(noise) dari gambar akan semakin sedikit bisa di bedakan di setiap number_noise yang ada di atas."
      ],
      "metadata": {
        "id": "3OHNId113R7w"
      }
    },
    {
      "cell_type": "code",
      "source": [],
      "metadata": {
        "id": "2GkixM0oEOwD"
      },
      "execution_count": null,
      "outputs": []
    },
    {
      "cell_type": "markdown",
      "source": [
        "# 4. Buat image masking untuk image berikut. Image kiri adalah image asli (images/couple.tiff),sedangkan image paling kanan adalah hasilnya"
      ],
      "metadata": {
        "id": "Jitm2pzv3H69"
      }
    },
    {
      "cell_type": "code",
      "source": [
        "img_t = cv.imread('/content/drive/MyDrive/Images/peppers.jpg')\n",
        "\n",
        "mask1 = np.zeros(img_t.shape, dtype=np.uint8)\n",
        "mask = cv.circle(mask1,(100,300),80,(255,255,255),-1)\n",
        "\n",
        "mask2 = np.zeros(img_t.shape, dtype=np.uint8)\n",
        "mask = cv.circle(mask2,(270,90),80,(255,255,255),-1)\n",
        "result = img_t & (mask1 + mask2)\n",
        "\n",
        "teeth_frame = cv.hconcat((img_t, result))\n",
        "cv2_imshow(teeth_frame)\n",
        "     \n"
      ],
      "metadata": {
        "id": "nVw97OiX1gRV"
      },
      "execution_count": null,
      "outputs": []
    },
    {
      "cell_type": "markdown",
      "source": [
        "# 5. Lakukan percobaan menggunakan operator lain dan tunjukkan hasilnya pada modul ini.Tuliskan hasil analisa anda kenapa citra keluarannya seperti itu."
      ],
      "metadata": {
        "id": "fZ8rP59FDgsb"
      }
    },
    {
      "cell_type": "code",
      "source": [
        "img5 = cv.imread('/content/drive/MyDrive/img/lily.jpg')\n",
        "\n",
        "mask = np.zeros(img5.shape, dtype=np.uint8)\n",
        "mask = cv.circle(mask, (260, 300), 225, (255,255,255), -1)\n",
        "\n",
        "masked = img5 & mask\n",
        "\n",
        "frame_pink = cv.hconcat((img5, mask, masked))\n",
        "cv2_imshow(frame_pink)"
      ],
      "metadata": {
        "id": "pelAHLga8is7"
      },
      "execution_count": null,
      "outputs": []
    }
  ]
}