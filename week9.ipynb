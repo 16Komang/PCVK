{
  "nbformat": 4,
  "nbformat_minor": 0,
  "metadata": {
    "colab": {
      "provenance": [],
      "authorship_tag": "ABX9TyNtbf3+41T5nVYNqgYdwlO/",
      "include_colab_link": true
    },
    "kernelspec": {
      "name": "python3",
      "display_name": "Python 3"
    },
    "language_info": {
      "name": "python"
    }
  },
  "cells": [
    {
      "cell_type": "markdown",
      "metadata": {
        "id": "view-in-github",
        "colab_type": "text"
      },
      "source": [
        "<a href=\"https://colab.research.google.com/github/16Komang/PCVK/blob/main/week9.ipynb\" target=\"_parent\"><img src=\"https://colab.research.google.com/assets/colab-badge.svg\" alt=\"Open In Colab\"/></a>"
      ]
    },
    {
      "cell_type": "code",
      "execution_count": 1,
      "metadata": {
        "id": "TrcV0smFwM8F",
        "outputId": "cbd5ed0d-a48c-43ce-dee2-36a03c3d7e8e",
        "colab": {
          "base_uri": "https://localhost:8080/"
        }
      },
      "outputs": [
        {
          "output_type": "stream",
          "name": "stdout",
          "text": [
            "Mounted at /content/drive\n"
          ]
        }
      ],
      "source": [
        "# Menghubungkan google colab dan google drive\n",
        "from google.colab import drive\n",
        "drive.mount('/content/drive')"
      ]
    },
    {
      "cell_type": "code",
      "source": [
        "# Mengimport modul dari phyton\n",
        "import numpy as np\n",
        "import matplotlib.pyplot as plt\n",
        "import cv2 as cv\n",
        "import math\n",
        "from google.colab.patches import cv2_imshow\n",
        "from PIL import Image as im"
      ],
      "metadata": {
        "id": "nVKBTPlAw53F"
      },
      "execution_count": 11,
      "outputs": []
    },
    {
      "cell_type": "code",
      "source": [
        "# Memasukan gambar yang akan di filtering dari google drive\n",
        "img = cv.imread('/content/drive/MyDrive/Images/morphology.png')\n",
        "img_gray = cv.cvtColor(img, cv.COLOR_BGR2GRAY)\n",
        "cv2_imshow(img_gray)"
      ],
      "metadata": {
        "id": "dnWnhwGMyrJU",
        "outputId": "2b8f9e36-ac77-4aa6-ddb4-adcf6ca85bc3",
        "colab": {
          "base_uri": "https://localhost:8080/",
          "height": 279
        }
      },
      "execution_count": 13,
      "outputs": [
        {
          "output_type": "display_data",
          "data": {
            "text/plain": [
              "<PIL.Image.Image image mode=L size=300x262 at 0x7F8DF83002B0>"
            ],
            "image/png": "[encoded data removed]"
          },
          "metadata": {}
        }
      ]
    },
    {
      "cell_type": "markdown",
      "source": [
        "## Tanpa Library"
      ],
      "metadata": {
        "id": "4emWbK0H1OiV"
      }
    },
    {
      "cell_type": "code",
      "source": [
        "def dilasi(img, row, col):\n",
        "    # Mengambil ukuran gambar\n",
        "    row, col = img.shape\n",
        "\n",
        "    # Membuat Structuring Element Dilasi (SED) berbentuk cross 3x3\n",
        "    kernel = np.zeros((3, 3), dtype=np.uint8)\n",
        "    kernel[1, :] = 1\n",
        "    kernel[:, 1] = 1\n",
        "\n",
        "    # Membuat gambar hasil dilasi\n",
        "    img_dilasi = np.zeros((row, col), dtype=np.uint8)\n",
        "\n",
        "    # Looping untuk melakukan dilasi pada setiap piksel pada gambar\n",
        "    for i in range(1, row-1):\n",
        "        for j in range(1, col-1):\n",
        "            # Membuat submatrix pada gambar sesuai dengan ukuran kernel\n",
        "            submatrix = img[i-1:i+2, j-1:j+2]\n",
        "\n",
        "            # Melakukan operasi dilasi dengan mengambil nilai maksimum pada kernel dan submatrix\n",
        "            img_dilasi[i, j] = np.max(cv.bitwise_and(submatrix, kernel))\n",
        "\n",
        "    return img_dilasi\n",
        "\n",
        "# Membaca gambar\n",
        "img = cv.imread('/content/drive/MyDrive/Images/morphology.png')\n",
        "\n",
        "# Melakukan dilasi dengan Structuring Element Dilasi (SED) berbentuk cross 3x3\n",
        "img_dilasi = dilasi(img)\n",
        "\n",
        "# Menampilkan hasil dilasi\n",
        "cv.imshow('Hasil Dilasi', img_dilasi)"
      ],
      "metadata": {
        "colab": {
          "base_uri": "https://localhost:8080/",
          "height": 252
        },
        "id": "2TIT3EA-0ZqH",
        "outputId": "5fe3c0d2-14b0-4aa5-ac08-79575c2a644c"
      },
      "execution_count": 18,
      "outputs": [
        {
          "output_type": "error",
          "ename": "TypeError",
          "evalue": "ignored",
          "traceback": [
            "\u001b[0;31m---------------------------------------------------------------------------\u001b[0m",
            "\u001b[0;31mTypeError\u001b[0m                                 Traceback (most recent call last)",
            "\u001b[0;32m<ipython-input-18-30f93184e669>\u001b[0m in \u001b[0;36m<cell line: 28>\u001b[0;34m()\u001b[0m\n\u001b[1;32m     26\u001b[0m \u001b[0;34m\u001b[0m\u001b[0m\n\u001b[1;32m     27\u001b[0m \u001b[0;31m# Melakukan dilasi dengan Structuring Element Dilasi (SED) berbentuk cross 3x3\u001b[0m\u001b[0;34m\u001b[0m\u001b[0;34m\u001b[0m\u001b[0m\n\u001b[0;32m---> 28\u001b[0;31m \u001b[0mimg_dilasi\u001b[0m \u001b[0;34m=\u001b[0m \u001b[0mdilasi\u001b[0m\u001b[0;34m(\u001b[0m\u001b[0mimg\u001b[0m\u001b[0;34m)\u001b[0m\u001b[0;34m\u001b[0m\u001b[0;34m\u001b[0m\u001b[0m\n\u001b[0m\u001b[1;32m     29\u001b[0m \u001b[0;34m\u001b[0m\u001b[0m\n\u001b[1;32m     30\u001b[0m \u001b[0;31m# Menampilkan hasil dilasi\u001b[0m\u001b[0;34m\u001b[0m\u001b[0;34m\u001b[0m\u001b[0m\n",
            "\u001b[0;31mTypeError\u001b[0m: dilasi() missing 2 required positional arguments: 'row' and 'col'"
          ]
        }
      ]
    },
    {
      "cell_type": "markdown",
      "source": [
        "## Menggunakan Library"
      ],
      "metadata": {
        "id": "Fj9wv6X-1TLG"
      }
    },
    {
      "cell_type": "code",
      "source": [],
      "metadata": {
        "id": "bC3dcL6q1TLH"
      },
      "execution_count": null,
      "outputs": []
    },
    {
      "cell_type": "markdown",
      "source": [
        "## Tanpa Library"
      ],
      "metadata": {
        "id": "PXCbdv7U1xC2"
      }
    },
    {
      "cell_type": "code",
      "source": [],
      "metadata": {
        "id": "0TuQqUtL1xC_"
      },
      "execution_count": null,
      "outputs": []
    },
    {
      "cell_type": "markdown",
      "source": [
        "## Menggunakan Library"
      ],
      "metadata": {
        "id": "75RaZhvN1xC_"
      }
    },
    {
      "cell_type": "code",
      "source": [],
      "metadata": {
        "id": "B7E-AzKT1xDA"
      },
      "execution_count": null,
      "outputs": []
    },
    {
      "cell_type": "markdown",
      "source": [
        "## Tanpa Library"
      ],
      "metadata": {
        "id": "HvwXX34c1xev"
      }
    },
    {
      "cell_type": "code",
      "source": [],
      "metadata": {
        "id": "AQmrfzKQ1xew"
      },
      "execution_count": null,
      "outputs": []
    },
    {
      "cell_type": "markdown",
      "source": [
        "## Menggunakan Library"
      ],
      "metadata": {
        "id": "5jR_DX331xew"
      }
    },
    {
      "cell_type": "code",
      "source": [],
      "metadata": {
        "id": "0T5v_mvG1xex"
      },
      "execution_count": null,
      "outputs": []
    },
    {
      "cell_type": "markdown",
      "source": [
        "## Tanpa Library"
      ],
      "metadata": {
        "id": "cN3-B4UY1xu5"
      }
    },
    {
      "cell_type": "code",
      "source": [],
      "metadata": {
        "id": "kqn4JCB21xu6"
      },
      "execution_count": null,
      "outputs": []
    },
    {
      "cell_type": "markdown",
      "source": [
        "## Menggunakan Library"
      ],
      "metadata": {
        "id": "rAcSVFrw1xu7"
      }
    },
    {
      "cell_type": "code",
      "source": [],
      "metadata": {
        "id": "RhCFcsHb1xu7"
      },
      "execution_count": null,
      "outputs": []
    }
  ]
}