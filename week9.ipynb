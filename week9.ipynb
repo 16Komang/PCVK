{
  "nbformat": 4,
  "nbformat_minor": 0,
  "metadata": {
    "colab": {
      "provenance": [],
      "authorship_tag": "ABX9TyNQTT6qtpRR2z2L5Sqmku60",
      "include_colab_link": true
    },
    "kernelspec": {
      "name": "python3",
      "display_name": "Python 3"
    },
    "language_info": {
      "name": "python"
    }
  },
  "cells": [
    {
      "cell_type": "markdown",
      "metadata": {
        "id": "view-in-github",
        "colab_type": "text"
      },
      "source": [
        "<a href=\"https://colab.research.google.com/github/16Komang/PCVK/blob/main/week9.ipynb\" target=\"_parent\"><img src=\"https://colab.research.google.com/assets/colab-badge.svg\" alt=\"Open In Colab\"/></a>"
      ]
    },
    {
      "cell_type": "code",
      "execution_count": 25,
      "metadata": {
        "id": "TrcV0smFwM8F",
        "outputId": "397c6cf9-d64b-4693-a2ad-f51ae744120a",
        "colab": {
          "base_uri": "https://localhost:8080/"
        }
      },
      "outputs": [
        {
          "output_type": "stream",
          "name": "stdout",
          "text": [
            "Drive already mounted at /content.drive; to attempt to forcibly remount, call drive.mount(\"/content.drive\", force_remount=True).\n"
          ]
        }
      ],
      "source": [
        "# Menghubungkan google colab dan google drive\n",
        "from google.colab import drive\n",
        "drive.mount('/content.drive')"
      ]
    },
    {
      "cell_type": "code",
      "source": [
        "# Mengimport modul dari phyton\n",
        "import numpy as np\n",
        "import matplotlib.pyplot as plt\n",
        "import cv2 as cv\n",
        "import math\n",
        "from google.colab.patches import cv_imshow\n",
        "from PIL import Image as im"
      ],
      "metadata": {
        "id": "nVKBTPlAw53F"
      },
      "execution_count": 26,
      "outputs": []
    },
    {
      "cell_type": "markdown",
      "source": [
        "# Dilasi"
      ],
      "metadata": {
        "id": "0E15PMMyaQ22"
      }
    },
    {
      "cell_type": "markdown",
      "source": [
        "### Tanpa Library"
      ],
      "metadata": {
        "id": "4emWbK0H1OiV"
      }
    },
    {
      "cell_type": "code",
      "source": [
        "# Input image\n",
        "input_image = cv.imread('/content/drive/MyDrive/Images')\n",
        "input_image = cv.cvtColor(input_image, cv.COLOR_BGR2GRAY)\n",
        "\n",
        "# Membuat structured element berbentuk cr 3x3\n",
        "sed = cv.getStructuringElement(cv.MORPH_CROSS, (3, 3))\n",
        "\n",
        "def morph_dilate(img, kernel):\n",
        "    # Menentukan baris dan kolom citra\n",
        "    rows = img.shape[0]\n",
        "    cols = img.shape[1]\n",
        "    dilate_img=np.zeros((rows,cols))\n",
        "\n",
        "    newimg=np.zeros((img.shape[0]+2,img.shape[1]+2))\n",
        "    newimg[1:-1,1:-1]=img\n",
        "    for i in range(0,rows-(kernel.shape[0]-1)):\n",
        "        for j in range(0,cols-kernel.shape[0]-1):\n",
        "            dilate_img[i,j]=np.max(se * newimg[i:i+kernel.shape[0],j:j+kernel.shape[0]])\n",
        "\n",
        "    return dilate_img\n",
        "\n",
        "# Citra hasil dilasi\n",
        "output_image = morph_dilate(input_image, se)\n",
        "\n",
        "# Membuat figure\n",
        "fig, axs = plt.subplots(1, 2, figsize=(7,5))\n",
        "\n",
        "# Menampilkan citra awal\n",
        "axs[0].set_title(\"Citra Awal\")\n",
        "axs[0].imshow(input_image, cmap='gray')\n",
        "\n",
        "# Menampilkan citra hasil dilasi\n",
        "axs[1].set_title(\"Citra Hasil Dilasi\")\n",
        "axs[1].imshow(output_image, cmap='gray')"
      ],
      "metadata": {
        "colab": {
          "base_uri": "https://localhost:8080/",
          "height": 235
        },
        "id": "2TIT3EA-0ZqH",
        "outputId": "334c2b4c-d744-4f96-83b6-f7a5e7464c20"
      },
      "execution_count": 27,
      "outputs": [
        {
          "output_type": "error",
          "ename": "error",
          "evalue": "ignored",
          "traceback": [
            "\u001b[0;31m---------------------------------------------------------------------------\u001b[0m",
            "\u001b[0;31merror\u001b[0m                                     Traceback (most recent call last)",
            "\u001b[0;32m<ipython-input-27-b90cb7439962>\u001b[0m in \u001b[0;36m<cell line: 3>\u001b[0;34m()\u001b[0m\n\u001b[1;32m      1\u001b[0m \u001b[0;31m# Input image\u001b[0m\u001b[0;34m\u001b[0m\u001b[0;34m\u001b[0m\u001b[0m\n\u001b[1;32m      2\u001b[0m \u001b[0minput_image\u001b[0m \u001b[0;34m=\u001b[0m \u001b[0mcv\u001b[0m\u001b[0;34m.\u001b[0m\u001b[0mimread\u001b[0m\u001b[0;34m(\u001b[0m\u001b[0;34m'/content/drive/MyDrive/Images'\u001b[0m\u001b[0;34m)\u001b[0m\u001b[0;34m\u001b[0m\u001b[0;34m\u001b[0m\u001b[0m\n\u001b[0;32m----> 3\u001b[0;31m \u001b[0minput_image\u001b[0m \u001b[0;34m=\u001b[0m \u001b[0mcv\u001b[0m\u001b[0;34m.\u001b[0m\u001b[0mcvtColor\u001b[0m\u001b[0;34m(\u001b[0m\u001b[0minput_image\u001b[0m\u001b[0;34m,\u001b[0m \u001b[0mcv\u001b[0m\u001b[0;34m.\u001b[0m\u001b[0mCOLOR_BGR2GRAY\u001b[0m\u001b[0;34m)\u001b[0m\u001b[0;34m\u001b[0m\u001b[0;34m\u001b[0m\u001b[0m\n\u001b[0m\u001b[1;32m      4\u001b[0m \u001b[0;34m\u001b[0m\u001b[0m\n\u001b[1;32m      5\u001b[0m \u001b[0;31m# Membuat structured element berbentuk cr 3x3\u001b[0m\u001b[0;34m\u001b[0m\u001b[0;34m\u001b[0m\u001b[0m\n",
            "\u001b[0;31merror\u001b[0m: OpenCV(4.7.0) /io/opencv/modules/imgproc/src/color.cpp:182: error: (-215:Assertion failed) !_src.empty() in function 'cvtColor'\n"
          ]
        }
      ]
    },
    {
      "cell_type": "markdown",
      "source": [
        "## Menggunakan Library"
      ],
      "metadata": {
        "id": "Fj9wv6X-1TLG"
      }
    },
    {
      "cell_type": "code",
      "source": [],
      "metadata": {
        "id": "bC3dcL6q1TLH"
      },
      "execution_count": null,
      "outputs": []
    },
    {
      "cell_type": "markdown",
      "source": [
        "## Tanpa Library"
      ],
      "metadata": {
        "id": "PXCbdv7U1xC2"
      }
    },
    {
      "cell_type": "code",
      "source": [],
      "metadata": {
        "id": "0TuQqUtL1xC_"
      },
      "execution_count": null,
      "outputs": []
    },
    {
      "cell_type": "markdown",
      "source": [
        "## Menggunakan Library"
      ],
      "metadata": {
        "id": "75RaZhvN1xC_"
      }
    },
    {
      "cell_type": "code",
      "source": [],
      "metadata": {
        "id": "B7E-AzKT1xDA"
      },
      "execution_count": null,
      "outputs": []
    },
    {
      "cell_type": "markdown",
      "source": [
        "## Tanpa Library"
      ],
      "metadata": {
        "id": "HvwXX34c1xev"
      }
    },
    {
      "cell_type": "code",
      "source": [],
      "metadata": {
        "id": "AQmrfzKQ1xew"
      },
      "execution_count": null,
      "outputs": []
    },
    {
      "cell_type": "markdown",
      "source": [
        "## Menggunakan Library"
      ],
      "metadata": {
        "id": "5jR_DX331xew"
      }
    },
    {
      "cell_type": "code",
      "source": [],
      "metadata": {
        "id": "0T5v_mvG1xex"
      },
      "execution_count": null,
      "outputs": []
    },
    {
      "cell_type": "markdown",
      "source": [
        "## Tanpa Library"
      ],
      "metadata": {
        "id": "cN3-B4UY1xu5"
      }
    },
    {
      "cell_type": "code",
      "source": [],
      "metadata": {
        "id": "kqn4JCB21xu6"
      },
      "execution_count": null,
      "outputs": []
    },
    {
      "cell_type": "markdown",
      "source": [
        "## Menggunakan Library"
      ],
      "metadata": {
        "id": "rAcSVFrw1xu7"
      }
    },
    {
      "cell_type": "code",
      "source": [],
      "metadata": {
        "id": "RhCFcsHb1xu7"
      },
      "execution_count": null,
      "outputs": []
    }
  ]
}